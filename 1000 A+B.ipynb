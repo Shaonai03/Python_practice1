{
 "cells": [
  {
   "cell_type": "code",
   "execution_count": 2,
   "id": "c4e0f55a",
   "metadata": {},
   "outputs": [
    {
     "name": "stdout",
     "output_type": "stream",
     "text": [
      "1\n"
     ]
    }
   ],
   "source": [
    "a = input()"
   ]
  },
  {
   "cell_type": "code",
   "execution_count": 3,
   "id": "033dd7c0",
   "metadata": {},
   "outputs": [
    {
     "name": "stdout",
     "output_type": "stream",
     "text": [
      "2\n"
     ]
    }
   ],
   "source": [
    "b = input()"
   ]
  },
  {
   "cell_type": "code",
   "execution_count": 4,
   "id": "b9a28305",
   "metadata": {},
   "outputs": [
    {
     "name": "stdout",
     "output_type": "stream",
     "text": [
      "12\n"
     ]
    }
   ],
   "source": [
    "print(a + b)"
   ]
  },
  {
   "cell_type": "markdown",
   "id": "e8e7f667",
   "metadata": {},
   "source": [
    "이렇게 하면, 파이썬이 이것을 문자로 인식해서 연산이 안된다.\n",
    "연산한 결과를 알고 싶다면, 변수값을 int로 전환하는 작업이 필요하다 "
   ]
  },
  {
   "cell_type": "code",
   "execution_count": 5,
   "id": "fa02502e",
   "metadata": {},
   "outputs": [],
   "source": [
    "c = int(a)"
   ]
  },
  {
   "cell_type": "code",
   "execution_count": 6,
   "id": "a69aaba4",
   "metadata": {},
   "outputs": [],
   "source": [
    "d = int(b)"
   ]
  },
  {
   "cell_type": "code",
   "execution_count": 7,
   "id": "b478af71",
   "metadata": {},
   "outputs": [
    {
     "name": "stdout",
     "output_type": "stream",
     "text": [
      "3\n"
     ]
    }
   ],
   "source": [
    "print(c+d)"
   ]
  },
  {
   "cell_type": "markdown",
   "id": "0088c743",
   "metadata": {},
   "source": [
    "이렇게 앞에 int로 감싸주면 문제가 해결된다"
   ]
  },
  {
   "cell_type": "code",
   "execution_count": null,
   "id": "496db274",
   "metadata": {},
   "outputs": [],
   "source": []
  },
  {
   "cell_type": "code",
   "execution_count": null,
   "id": "6e1ac4b2",
   "metadata": {},
   "outputs": [],
   "source": []
  }
 ],
 "metadata": {
  "kernelspec": {
   "display_name": "Python 3",
   "language": "python",
   "name": "python3"
  },
  "language_info": {
   "codemirror_mode": {
    "name": "ipython",
    "version": 3
   },
   "file_extension": ".py",
   "mimetype": "text/x-python",
   "name": "python",
   "nbconvert_exporter": "python",
   "pygments_lexer": "ipython3",
   "version": "3.8.8"
  }
 },
 "nbformat": 4,
 "nbformat_minor": 5
}
